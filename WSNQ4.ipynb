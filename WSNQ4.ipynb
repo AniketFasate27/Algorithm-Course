{
 "cells": [
  {
   "cell_type": "code",
   "execution_count": 3,
   "metadata": {},
   "outputs": [
    {
     "name": "stdout",
     "output_type": "stream",
     "text": [
      "Maximum Separation Distance: 1333.52 meters\n"
     ]
    }
   ],
   "source": [
    "import numpy as np\n",
    "\n",
    "# Given values\n",
    "max_transmission_power = 20  # Maximum transmission power in dBm\n",
    "receiver_power = -80  # Desired receiver power in dBm\n",
    "path_loss_exponent = 3.2  # Multi Path loss exponent\n",
    "reference_distance = 1  # Reference distance in meters\n",
    "\n",
    "# Calculate separation distance\n",
    "separation_distance = reference_distance * 10**(((max_transmission_power - receiver_power)) / (10 * path_loss_exponent))\n",
    "\n",
    "print(f\"Maximum Separation Distance: {separation_distance:.2f} meters\")"
   ]
  }
 ],
 "metadata": {
  "kernelspec": {
   "display_name": "aniket",
   "language": "python",
   "name": "python3"
  },
  "language_info": {
   "codemirror_mode": {
    "name": "ipython",
    "version": 3
   },
   "file_extension": ".py",
   "mimetype": "text/x-python",
   "name": "python",
   "nbconvert_exporter": "python",
   "pygments_lexer": "ipython3",
   "version": "3.8.13"
  }
 },
 "nbformat": 4,
 "nbformat_minor": 2
}

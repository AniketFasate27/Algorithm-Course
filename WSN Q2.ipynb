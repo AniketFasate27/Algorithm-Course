import numpy as np
import matplotlib.pyplot as plt

# Constants
speed_of_light = 3e8  # speed of light in meters per second
frequency = 900e6  # 900 MHz frequency in hertz
d0 = 1  # reference distance in meters
gamma = 3.2  # path loss exponent

# Calculate wavelength
wavelength = speed_of_light / frequency

# Transmission distances
distances = np.arange(1, 101)  # distances from 1 to 1000 meters

# Calculate path loss
path_loss_refrence = 30
path_loss =  path_loss_refrence + 10 * gamma * np.log10(distances / d0)

# Plotting
plt.figure(figsize=(8, 6))
plt.plot(distances, path_loss, label='Path Loss')
plt.title('Path Loss vs. Transmission Distance')
plt.xlabel('Distance [m]')
plt.ylabel('Path Loss [dB]')
plt.legend()
plt.grid(True)
plt.show()

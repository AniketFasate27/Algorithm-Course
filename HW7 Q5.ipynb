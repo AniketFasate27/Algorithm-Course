{
 "cells": [
  {
   "cell_type": "code",
   "execution_count": 1,
   "metadata": {},
   "outputs": [
    {
     "ename": "IndexError",
     "evalue": "list index out of range",
     "output_type": "error",
     "traceback": [
      "\u001b[1;31m---------------------------------------------------------------------------\u001b[0m",
      "\u001b[1;31mIndexError\u001b[0m                                Traceback (most recent call last)",
      "\u001b[1;32mc:\\Users\\anifa\\Desktop\\GITB\\Algorithm\\HW7 Q5.ipynb Cell 1\u001b[0m line \u001b[0;36m4\n\u001b[0;32m     <a href='vscode-notebook-cell:/c%3A/Users/anifa/Desktop/GITB/Algorithm/HW7%20Q5.ipynb#W0sZmlsZQ%3D%3D?line=38'>39</a>\u001b[0m pi \u001b[39m=\u001b[39m [\u001b[39m0\u001b[39m, \u001b[39m0.04\u001b[39m, \u001b[39m0.06\u001b[39m, \u001b[39m0.08\u001b[39m, \u001b[39m0.02\u001b[39m, \u001b[39m0.10\u001b[39m, \u001b[39m0.12\u001b[39m, \u001b[39m0.14\u001b[39m]\n\u001b[0;32m     <a href='vscode-notebook-cell:/c%3A/Users/anifa/Desktop/GITB/Algorithm/HW7%20Q5.ipynb#W0sZmlsZQ%3D%3D?line=39'>40</a>\u001b[0m qi \u001b[39m=\u001b[39m [\u001b[39m0.06\u001b[39m, \u001b[39m0.06\u001b[39m, \u001b[39m0.06\u001b[39m, \u001b[39m0.06\u001b[39m, \u001b[39m0.05\u001b[39m, \u001b[39m0.05\u001b[39m, \u001b[39m0.05\u001b[39m, \u001b[39m0.05\u001b[39m]\n\u001b[1;32m---> <a href='vscode-notebook-cell:/c%3A/Users/anifa/Desktop/GITB/Algorithm/HW7%20Q5.ipynb#W0sZmlsZQ%3D%3D?line=41'>42</a>\u001b[0m C, Root \u001b[39m=\u001b[39m optimal_bst(keys, pi, qi)\n\u001b[0;32m     <a href='vscode-notebook-cell:/c%3A/Users/anifa/Desktop/GITB/Algorithm/HW7%20Q5.ipynb#W0sZmlsZQ%3D%3D?line=43'>44</a>\u001b[0m \u001b[39mprint\u001b[39m(\u001b[39m\"\u001b[39m\u001b[39mCost table:\u001b[39m\u001b[39m\"\u001b[39m)\n\u001b[0;32m     <a href='vscode-notebook-cell:/c%3A/Users/anifa/Desktop/GITB/Algorithm/HW7%20Q5.ipynb#W0sZmlsZQ%3D%3D?line=44'>45</a>\u001b[0m \u001b[39mfor\u001b[39;00m row \u001b[39min\u001b[39;00m C:\n",
      "\u001b[1;32mc:\\Users\\anifa\\Desktop\\GITB\\Algorithm\\HW7 Q5.ipynb Cell 1\u001b[0m line \u001b[0;36m2\n\u001b[0;32m     <a href='vscode-notebook-cell:/c%3A/Users/anifa/Desktop/GITB/Algorithm/HW7%20Q5.ipynb#W0sZmlsZQ%3D%3D?line=16'>17</a>\u001b[0m W[i][j] \u001b[39m=\u001b[39m W[i][j \u001b[39m-\u001b[39m \u001b[39m1\u001b[39m] \u001b[39m+\u001b[39m pi[j] \u001b[39m+\u001b[39m qi[j]\n\u001b[0;32m     <a href='vscode-notebook-cell:/c%3A/Users/anifa/Desktop/GITB/Algorithm/HW7%20Q5.ipynb#W0sZmlsZQ%3D%3D?line=18'>19</a>\u001b[0m \u001b[39mfor\u001b[39;00m r \u001b[39min\u001b[39;00m \u001b[39mrange\u001b[39m(i, j \u001b[39m+\u001b[39m \u001b[39m1\u001b[39m):\n\u001b[1;32m---> <a href='vscode-notebook-cell:/c%3A/Users/anifa/Desktop/GITB/Algorithm/HW7%20Q5.ipynb#W0sZmlsZQ%3D%3D?line=19'>20</a>\u001b[0m     cost \u001b[39m=\u001b[39m C[i][r \u001b[39m-\u001b[39m \u001b[39m1\u001b[39m] \u001b[39m+\u001b[39m C[r \u001b[39m+\u001b[39;49m \u001b[39m1\u001b[39;49m][j] \u001b[39m+\u001b[39m W[i][j]\n\u001b[0;32m     <a href='vscode-notebook-cell:/c%3A/Users/anifa/Desktop/GITB/Algorithm/HW7%20Q5.ipynb#W0sZmlsZQ%3D%3D?line=20'>21</a>\u001b[0m     \u001b[39mif\u001b[39;00m cost \u001b[39m<\u001b[39m C[i][j]:\n\u001b[0;32m     <a href='vscode-notebook-cell:/c%3A/Users/anifa/Desktop/GITB/Algorithm/HW7%20Q5.ipynb#W0sZmlsZQ%3D%3D?line=21'>22</a>\u001b[0m         C[i][j] \u001b[39m=\u001b[39m cost\n",
      "\u001b[1;31mIndexError\u001b[0m: list index out of range"
     ]
    }
   ],
   "source": [
    "def optimal_bst(keys, pi, qi):\n",
    "    n = len(keys)\n",
    "    \n",
    "    C = [[0] * n for _ in range(n)]\n",
    "    W = [[0] * n for _ in range(n)]\n",
    "    Root = [[0] * n for _ in range(n)]\n",
    "    \n",
    "    for i in range(n):\n",
    "        C[i][i] = qi[i]\n",
    "        W[i][i] = qi[i]\n",
    "        Root[i][i] = i\n",
    "    \n",
    "    for length in range(2, n + 1):\n",
    "        for i in range(n - length + 1):\n",
    "            j = i + length - 1\n",
    "            C[i][j] = float('inf')\n",
    "            W[i][j] = W[i][j - 1] + pi[j] + qi[j]\n",
    "            \n",
    "            for r in range(i, j + 1):\n",
    "                cost = C[i][r - 1] + C[r + 1][j] + W[i][j]\n",
    "                if cost < C[i][j]:\n",
    "                    C[i][j] = cost\n",
    "                    Root[i][j] = r\n",
    "    \n",
    "    return C, Root\n",
    "\n",
    "def print_optimal_bst_structure(keys, Root, i, j, parent):\n",
    "    if i <= j:\n",
    "        root_index = Root[i][j]\n",
    "        if parent == -1:\n",
    "            print(f\"Root of BST with keys {keys[i:j+1]} is at index {root_index}\")\n",
    "        else:\n",
    "            print(f\"Node {keys[root_index]} is the {['left', 'right'][root_index > parent]} child of {keys[parent]}\")\n",
    "        \n",
    "        print_optimal_bst_structure(keys, Root, i, root_index - 1, root_index)\n",
    "        print_optimal_bst_structure(keys, Root, root_index + 1, j, root_index)\n",
    "\n",
    "keys = [0, 1, 2, 3, 4, 5, 6, 7]\n",
    "pi = [0, 0.04, 0.06, 0.08, 0.02, 0.10, 0.12, 0.14]\n",
    "qi = [0.06, 0.06, 0.06, 0.06, 0.05, 0.05, 0.05, 0.05]\n",
    "\n",
    "C, Root = optimal_bst(keys, pi, qi)\n",
    "\n",
    "print(\"Cost table:\")\n",
    "for row in C:\n",
    "    print(row)\n",
    "\n",
    "print(\"\\nOptimal BST structure:\")\n",
    "print_optimal_bst_structure(keys, Root, 0, len(keys) - 1, -1)\n"
   ]
  }
 ],
 "metadata": {
  "kernelspec": {
   "display_name": "aniket",
   "language": "python",
   "name": "python3"
  },
  "language_info": {
   "codemirror_mode": {
    "name": "ipython",
    "version": 3
   },
   "file_extension": ".py",
   "mimetype": "text/x-python",
   "name": "python",
   "nbconvert_exporter": "python",
   "pygments_lexer": "ipython3",
   "version": "3.8.13"
  }
 },
 "nbformat": 4,
 "nbformat_minor": 2
}

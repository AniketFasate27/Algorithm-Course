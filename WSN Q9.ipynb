{
 "cells": [
  {
   "cell_type": "code",
   "execution_count": 1,
   "metadata": {},
   "outputs": [
    {
     "name": "stdout",
     "output_type": "stream",
     "text": [
      "Transmit Power in Watts: 0.010000\n",
      "Time in Secs: 0.000533\n",
      "Energy Per Hop in Joules: 0.000005\n",
      "Total energy consumed for transmitting a 20-byte packet over 5 hops: 0.000027 Joules\n"
     ]
    }
   ],
   "source": [
    "numHops = 5  # Number of hops\n",
    "transmitPower_dBm = 10  # Assumed maximum transmission power of each node in dBm\n",
    "packetSize_bytes = 20\n",
    "dataRate_kbps = 300  # Assumed data-rate of the network in kbps (example value)\n",
    "packetSize_bits = packetSize_bytes * 8  # 1 byte = 8 bits\n",
    "transmitPower_Watts = 10 ** ((transmitPower_dBm - 30) / 10)\n",
    "\n",
    "print(f'Transmit Power in Watts: {transmitPower_Watts:.6f}')\n",
    "\n",
    "transmitTime_seconds = packetSize_bits / (dataRate_kbps * 10**3)  # time to transmit the packet for each hop\n",
    "\n",
    "print(f'Time in Secs: {transmitTime_seconds:.6f}')\n",
    "\n",
    "energyPerHop_Joules = transmitPower_Watts * transmitTime_seconds\n",
    "\n",
    "print(f'Energy Per Hop in Joules: {energyPerHop_Joules:.6f}')\n",
    "\n",
    "totalEnergyConsumed_Joules = energyPerHop_Joules * numHops\n",
    "\n",
    "print(f'Total energy consumed for transmitting a 20-byte packet over {numHops} hops: {totalEnergyConsumed_Joules:.6f} Joules')\n"
   ]
  }
 ],
 "metadata": {
  "kernelspec": {
   "display_name": "aniket",
   "language": "python",
   "name": "python3"
  },
  "language_info": {
   "codemirror_mode": {
    "name": "ipython",
    "version": 3
   },
   "file_extension": ".py",
   "mimetype": "text/x-python",
   "name": "python",
   "nbconvert_exporter": "python",
   "pygments_lexer": "ipython3",
   "version": "3.8.13"
  }
 },
 "nbformat": 4,
 "nbformat_minor": 2
}

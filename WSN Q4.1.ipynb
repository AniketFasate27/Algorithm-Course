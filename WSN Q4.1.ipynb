{
 "cells": [
  {
   "cell_type": "code",
   "execution_count": 2,
   "metadata": {},
   "outputs": [
    {
     "name": "stdout",
     "output_type": "stream",
     "text": [
      "Maximum separation between two BSs: 2094.40 meters\n"
     ]
    }
   ],
   "source": [
    "import numpy as np\n",
    "\n",
    "# Constants\n",
    "speed_of_light = 3e8  # Speed of light in meters per second\n",
    "frequency = 500e3  # Bandwidth in Hertz (500 kHz)\n",
    "SF = 8  # Spreading Factor\n",
    "R = 12.5e3  # Data Rate in bps (12.5 kbps)\n",
    "Noise_Power_dBm = -100  # Noise Power at the BS in dBm\n",
    "SNR_target_dB = 20  # Target SNR in dB\n",
    "transmission_power_dBm = 20  # Maximum transmission power in dBm\n",
    "\n",
    "# Calculate wavelength (lambda) using the formula: lambda = c / f\n",
    "wavelength = speed_of_light / frequency\n",
    "\n",
    "# Calculate the maximum separation using the Friis equation\n",
    "max_separation = 10 ** ((transmission_power_dBm - Noise_Power_dBm - SNR_target_dB - 20 * np.log10(wavelength / (4 * np.pi))) / 20)\n",
    "\n",
    "print(f\"Maximum separation between two BSs: {max_separation:.2f} meters\")\n"
   ]
  }
 ],
 "metadata": {
  "kernelspec": {
   "display_name": "aniket",
   "language": "python",
   "name": "python3"
  },
  "language_info": {
   "codemirror_mode": {
    "name": "ipython",
    "version": 3
   },
   "file_extension": ".py",
   "mimetype": "text/x-python",
   "name": "python",
   "nbconvert_exporter": "python",
   "pygments_lexer": "ipython3",
   "version": "3.8.13"
  }
 },
 "nbformat": 4,
 "nbformat_minor": 2
}

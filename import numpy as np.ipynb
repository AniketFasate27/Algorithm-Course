import numpy as np

# Given values
max_transmission_power = 20  # Maximum transmission power in dBm
receiver_power = -80  # Desired receiver power in dBm
path_loss_exponent = 3.2  # Multi Path loss exponent
reference_distance = 1  # Reference distance in meters

# Calculate separation distance
separation_distance = reference_distance * 10**(((max_transmission_power - receiver_power)) / (10 * path_loss_exponent))

print(f"Maximum Separation Distance: {separation_distance:.2f} meters")
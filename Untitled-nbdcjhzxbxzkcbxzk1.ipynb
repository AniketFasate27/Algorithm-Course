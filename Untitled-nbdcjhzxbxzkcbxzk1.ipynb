{
 "cells": [
  {
   "cell_type": "code",
   "execution_count": 1,
   "metadata": {},
   "outputs": [
    {
     "ename": "IndexError",
     "evalue": "list index out of range",
     "output_type": "error",
     "traceback": [
      "\u001b[1;31m---------------------------------------------------------------------------\u001b[0m",
      "\u001b[1;31mIndexError\u001b[0m                                Traceback (most recent call last)",
      "\u001b[1;32mUntitled-1.ipynb Cell 1\u001b[0m line \u001b[0;36m4\n\u001b[0;32m     <a href='vscode-notebook-cell:Untitled-1.ipynb?jupyter-notebook#W0sdW50aXRsZWQ%3D?line=39'>40</a>\u001b[0m p \u001b[39m=\u001b[39m [\u001b[39m0\u001b[39m, \u001b[39m0.04\u001b[39m, \u001b[39m0.06\u001b[39m, \u001b[39m0.08\u001b[39m, \u001b[39m0.02\u001b[39m, \u001b[39m0.10\u001b[39m, \u001b[39m0.12\u001b[39m, \u001b[39m0.14\u001b[39m]\n\u001b[0;32m     <a href='vscode-notebook-cell:Untitled-1.ipynb?jupyter-notebook#W0sdW50aXRsZWQ%3D?line=40'>41</a>\u001b[0m q \u001b[39m=\u001b[39m [\u001b[39m0.06\u001b[39m, \u001b[39m0.06\u001b[39m, \u001b[39m0.06\u001b[39m, \u001b[39m0.06\u001b[39m, \u001b[39m0.05\u001b[39m, \u001b[39m0.05\u001b[39m, \u001b[39m0.05\u001b[39m, \u001b[39m0.05\u001b[39m]\n\u001b[1;32m---> <a href='vscode-notebook-cell:Untitled-1.ipynb?jupyter-notebook#W0sdW50aXRsZWQ%3D?line=42'>43</a>\u001b[0m cost, root \u001b[39m=\u001b[39m optimal_bst(keys, p, q)\n\u001b[0;32m     <a href='vscode-notebook-cell:Untitled-1.ipynb?jupyter-notebook#W0sdW50aXRsZWQ%3D?line=43'>44</a>\u001b[0m bst_root \u001b[39m=\u001b[39m construct_optimal_bst(keys, \u001b[39m0\u001b[39m, \u001b[39mlen\u001b[39m(keys) \u001b[39m-\u001b[39m \u001b[39m1\u001b[39m, root)\n",
      "\u001b[1;32mUntitled-1.ipynb Cell 1\u001b[0m line \u001b[0;36m8\n\u001b[0;32m      <a href='vscode-notebook-cell:Untitled-1.ipynb?jupyter-notebook#W0sdW50aXRsZWQ%3D?line=5'>6</a>\u001b[0m \u001b[39m# Fill the diagonal entries for a single key\u001b[39;00m\n\u001b[0;32m      <a href='vscode-notebook-cell:Untitled-1.ipynb?jupyter-notebook#W0sdW50aXRsZWQ%3D?line=6'>7</a>\u001b[0m \u001b[39mfor\u001b[39;00m i \u001b[39min\u001b[39;00m \u001b[39mrange\u001b[39m(n \u001b[39m+\u001b[39m \u001b[39m1\u001b[39m):\n\u001b[1;32m----> <a href='vscode-notebook-cell:Untitled-1.ipynb?jupyter-notebook#W0sdW50aXRsZWQ%3D?line=7'>8</a>\u001b[0m     e[i][i] \u001b[39m=\u001b[39m q[i]\n\u001b[0;32m     <a href='vscode-notebook-cell:Untitled-1.ipynb?jupyter-notebook#W0sdW50aXRsZWQ%3D?line=9'>10</a>\u001b[0m \u001b[39m# Build up the tables for expected costs and weights\u001b[39;00m\n\u001b[0;32m     <a href='vscode-notebook-cell:Untitled-1.ipynb?jupyter-notebook#W0sdW50aXRsZWQ%3D?line=10'>11</a>\u001b[0m \u001b[39mfor\u001b[39;00m l \u001b[39min\u001b[39;00m \u001b[39mrange\u001b[39m(\u001b[39m1\u001b[39m, n \u001b[39m+\u001b[39m \u001b[39m1\u001b[39m):\n",
      "\u001b[1;31mIndexError\u001b[0m: list index out of range"
     ]
    }
   ],
   "source": [
    "Function CONSTRUCT-OPTIMAL_BST(root, i, j)\n",
    "# root this is the root table thaat indicates the roots of optimal subtree\n",
    "## i and j are the indices representing the range of the keys and function constructs the optimal BST for the keys in the range[i,j]\n",
    "    if i > j\n",
    "        return NIL\n",
    "    end if \n",
    "    if i == j then\n",
    "        return a node with key K(i) and whose children are NIL\n",
    "    end if \n",
    "    let n be a node with key kroo[i,j]\n",
    "    n.left = CONSTRUCT-OPTIMAL-BST(root, i, roo[i,j] -1)\n",
    "    n.right = CONSTRUCT-OPTIMAL-BST(root, roo[i,j]+1, j)\n",
    "    return n"
   ]
  }
 ],
 "metadata": {
  "kernelspec": {
   "display_name": "aniket",
   "language": "python",
   "name": "python3"
  },
  "language_info": {
   "codemirror_mode": {
    "name": "ipython",
    "version": 3
   },
   "file_extension": ".py",
   "mimetype": "text/x-python",
   "name": "python",
   "nbconvert_exporter": "python",
   "pygments_lexer": "ipython3",
   "version": "3.8.13"
  }
 },
 "nbformat": 4,
 "nbformat_minor": 2
}

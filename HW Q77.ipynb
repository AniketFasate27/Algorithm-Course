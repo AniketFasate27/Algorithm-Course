{
 "cells": [
  {
   "cell_type": "code",
   "execution_count": null,
   "metadata": {},
   "outputs": [],
   "source": [
    "def optimal_bst(keys, pi, qi):\n",
    "    n = len(keys)\n",
    "    \n",
    "    C = [[0] * n for _ in range(n)]\n",
    "    W = [[0] * n for _ in range(n)]\n",
    "    Root = [[0] * n for _ in range(n)]\n",
    "    \n",
    "    for i in range(n):\n",
    "        C[i][i] = qi[i]\n",
    "        W[i][i] = qi[i]\n",
    "        Root[i][i] = i\n",
    "    \n",
    "    for length in range(2, n + 1):\n",
    "        for i in range(n - length + 1):\n",
    "            j = i + length - 1\n",
    "            C[i][j] = float('inf')\n",
    "            W[i][j] = W[i][j - 1] + pi[j] + qi[j]\n",
    "            \n",
    "            for r in range(i, j + 1):\n",
    "                cost = C[i][r - 1] + C[r + 1][j] + W[i][j]\n",
    "                if cost < C[i][j]:\n",
    "                    C[i][j] = cost\n",
    "                    Root[i][j] = r\n",
    "    \n",
    "    return C, Root\n",
    "\n",
    "def print_optimal_bst_structure(keys, Root, i, j, parent):\n",
    "    if i <= j:\n",
    "        root_index = Root[i][j]\n",
    "        if parent == -1:\n",
    "            print(f\"Root of BST with keys {keys[i:j+1]} is at index {root_index}\")\n",
    "        else:\n",
    "            print(f\"Node {keys[root_index]} is the {['left', 'right'][root_index > parent]} child of {keys[parent]}\")\n",
    "        \n",
    "        print_optimal_bst_structure(keys, Root, i, root_index - 1, root_index)\n",
    "        print_optimal_bst_structure(keys, Root, root_index + 1, j, root_index)\n",
    "\n",
    "keys = [0, 1, 2, 3, 4, 5, 6, 7]\n",
    "pi = [0, 0.04, 0.06, 0.08, 0.02, 0.10, 0.12, 0.14]\n",
    "qi = [0.06, 0.06, 0.06, 0.06, 0.05, 0.05, 0.05, 0.05]\n",
    "\n",
    "C, Root = optimal_bst(keys, pi, qi)\n",
    "\n",
    "print(\"Cost table:\")\n",
    "for row in C:\n",
    "    print(row)\n",
    "\n",
    "print(\"\\nOptimal BST structure:\")\n",
    "print_optimal_bst_structure(keys, Root, 0, len(keys) - 1, -1)\n"
   ]
  }
 ],
 "metadata": {
  "language_info": {
   "name": "python"
  }
 },
 "nbformat": 4,
 "nbformat_minor": 2
}

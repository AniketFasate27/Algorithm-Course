{
 "cells": [
  {
   "cell_type": "code",
   "execution_count": 1,
   "metadata": {},
   "outputs": [
    {
     "name": "stdout",
     "output_type": "stream",
     "text": [
      "Max Distance between Hops: 15.93\n",
      "Estimated number of hops needed: 5\n"
     ]
    }
   ],
   "source": [
    "import numpy as np\n",
    "\n",
    "powerReceiveMin_dBm = -60  # Minimum power required at the receiver, in dBm\n",
    "powerTransmitNode_dBm = 10  # Maximum power each node can transmit, in dBm\n",
    "urbanPathLossExponent = 3.2  # Typical path loss exponent in urban settings\n",
    "commFrequency_Hz = 900e6  # Communication frequency for IEEE 802.11ah (900 MHz)\n",
    "lightSpeed = 3e8  # Speed of light in meters per second\n",
    "\n",
    "# Calculating Wavelength from Frequency\n",
    "nodeWavelength = lightSpeed / commFrequency_Hz  # Wavelength used by the nodes\n",
    "\n",
    "# Determining Path Loss at Reference Distance\n",
    "refDistancePathLoss = 20 * np.log10(4 * np.pi * 1 / nodeWavelength)  # Path loss at 1 meter, important for path loss calculations\n",
    "\n",
    "# Path Loss Tolerance Calculation\n",
    "tolerablePathLoss_dB = powerTransmitNode_dBm - powerReceiveMin_dBm\n",
    "\n",
    "# Calculating Maximum Distance for Each Communication Hop\n",
    "maxDistanceHop_m = 10 ** ((tolerablePathLoss_dB - refDistancePathLoss) / (10 * urbanPathLossExponent))\n",
    "totalCommDistance_m = 75  # The total distance from a node to the Access Point\n",
    "\n",
    "# Determines how many hops are needed to cover the 75m distance\n",
    "estimatedHops = np.ceil(totalCommDistance_m / maxDistanceHop_m)\n",
    "\n",
    "print(f'Max Distance between Hops: {maxDistanceHop_m:.2f}')\n",
    "print(f'Estimated number of hops needed: {int(estimatedHops)}')\n"
   ]
  }
 ],
 "metadata": {
  "kernelspec": {
   "display_name": "aniket",
   "language": "python",
   "name": "python3"
  },
  "language_info": {
   "codemirror_mode": {
    "name": "ipython",
    "version": 3
   },
   "file_extension": ".py",
   "mimetype": "text/x-python",
   "name": "python",
   "nbconvert_exporter": "python",
   "pygments_lexer": "ipython3",
   "version": "3.8.13"
  }
 },
 "nbformat": 4,
 "nbformat_minor": 2
}

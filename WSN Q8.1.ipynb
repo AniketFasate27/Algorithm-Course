{
 "cells": [
  {
   "cell_type": "code",
   "execution_count": 2,
   "metadata": {},
   "outputs": [
    {
     "ename": "IndexError",
     "evalue": "list index out of range",
     "output_type": "error",
     "traceback": [
      "\u001b[1;31m---------------------------------------------------------------------------\u001b[0m",
      "\u001b[1;31mIndexError\u001b[0m                                Traceback (most recent call last)",
      "\u001b[1;32mUntitled-1.ipynb Cell 1\u001b[0m line \u001b[0;36m2\n\u001b[0;32m     <a href='vscode-notebook-cell:Untitled-1.ipynb?jupyter-notebook#W0sdW50aXRsZWQ%3D?line=16'>17</a>\u001b[0m prx \u001b[39m=\u001b[39m tx_power_max \u001b[39m-\u001b[39m pl\n\u001b[0;32m     <a href='vscode-notebook-cell:Untitled-1.ipynb?jupyter-notebook#W0sdW50aXRsZWQ%3D?line=18'>19</a>\u001b[0m \u001b[39mif\u001b[39;00m prx \u001b[39m<\u001b[39m rx_sens:\n\u001b[1;32m---> <a href='vscode-notebook-cell:Untitled-1.ipynb?jupyter-notebook#W0sdW50aXRsZWQ%3D?line=19'>20</a>\u001b[0m     max_range \u001b[39m=\u001b[39m dist[\u001b[39m-\u001b[39;49m\u001b[39m1\u001b[39;49m]\n\u001b[0;32m     <a href='vscode-notebook-cell:Untitled-1.ipynb?jupyter-notebook#W0sdW50aXRsZWQ%3D?line=20'>21</a>\u001b[0m \u001b[39melse\u001b[39;00m:\n\u001b[0;32m     <a href='vscode-notebook-cell:Untitled-1.ipynb?jupyter-notebook#W0sdW50aXRsZWQ%3D?line=21'>22</a>\u001b[0m     max_range \u001b[39m=\u001b[39m d\n",
      "\u001b[1;31mIndexError\u001b[0m: list index out of range"
     ]
    }
   ],
   "source": [
    "import matplotlib.pyplot as plt\n",
    "import math\n",
    "\n",
    "# Parameters\n",
    "tx_power_max = 10  # Maximum Tx power (dBm)\n",
    "path_loss_exp = 3.5\n",
    "freq = 868  # Frequency (MHz)  \n",
    "d0 = 1 \n",
    "L0 = 40  \n",
    "rx_sens = -60 \n",
    "\n",
    "dist = []\n",
    "num_hops = []\n",
    "\n",
    "for d in range(10, 300, 5):\n",
    "    pl = L0 + (10 * path_loss_exp * math.log10(d / d0))  \n",
    "    prx = tx_power_max - pl\n",
    "    \n",
    "    if prx < rx_sens:\n",
    "        max_range = dist[-1]\n",
    "    else:\n",
    "        max_range = d\n",
    "        \n",
    "    hops = math.ceil(d / max_range)\n",
    "    dist.append(d)\n",
    "    num_hops.append(hops)\n",
    "\n",
    "plt.plot(dist, num_hops)\n",
    "plt.xlabel('Distance (m)')  \n",
    "plt.ylabel('Number of Hops')\n",
    "plt.title('Hops vs Distance')\n",
    "plt.grid()\n",
    "plt.show()"
   ]
  }
 ],
 "metadata": {
  "kernelspec": {
   "display_name": "aniket",
   "language": "python",
   "name": "python3"
  },
  "language_info": {
   "codemirror_mode": {
    "name": "ipython",
    "version": 3
   },
   "file_extension": ".py",
   "mimetype": "text/x-python",
   "name": "python",
   "nbconvert_exporter": "python",
   "pygments_lexer": "ipython3",
   "version": "3.8.13"
  }
 },
 "nbformat": 4,
 "nbformat_minor": 2
}

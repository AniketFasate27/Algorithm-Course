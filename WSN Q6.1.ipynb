{
 "cells": [
  {
   "cell_type": "code",
   "execution_count": 11,
   "metadata": {},
   "outputs": [
    {
     "ename": "IndentationError",
     "evalue": "unexpected indent (3494597727.py, line 5)",
     "output_type": "error",
     "traceback": [
      "\u001b[1;36m  Cell \u001b[1;32mIn[11], line 5\u001b[1;36m\u001b[0m\n\u001b[1;33m    frequency = 900e6\u001b[0m\n\u001b[1;37m    ^\u001b[0m\n\u001b[1;31mIndentationError\u001b[0m\u001b[1;31m:\u001b[0m unexpected indent\n"
     ]
    }
   ],
   "source": [
    "import numpy as np  \n",
    "import matplotlib.pyplot as plt\n",
    "\n",
    "speedOfLight = 299792458   \n",
    " frequency = 900e6 \n",
    " transmitAntennaGain = 0  \n",
    " receiveAntennaGain = 0\n",
    " noisePowerBS = -100\n",
    " snrRequirement = 20\n",
    " pathLossExponent = 3.2\n",
    " referenceDistance = 1 \n",
    " wavelength = speedOfLight / frequency\n",
    "\n",
    "distances = np.arange(1, 101)\n",
    "pathLoss = pathLossExponent + 10 * np.log10(distances / referenceDistance)  \n",
    "pathLossAtReference = 20 * np.log10((4* np.pi * referenceDistance) / wavelength)   \n",
    "\n",
    "receivedPowerBS = noisePowerBS + snrRequirement  \n",
    "transmissionPower = receivedPowerBS + pathLoss + pathLossAtReference   \n",
    "\n",
    "fig, ax = plt.subplots()\n",
    "ax.plot(distances, transmissionPower, 'LineWidth', 2)\n",
    "ax.invert_yaxis() # invert y-axis\n",
    "\n",
    "ax.set_title('Required Transmission Power vs. Distance')\n",
    "ax.set_xlabel('Distance [m]')\n",
    "ax.set_ylabel('Transmission Power [dBm]')   \n",
    "ax.grid()\n",
    "plt.show()"
   ]
  }
 ],
 "metadata": {
  "kernelspec": {
   "display_name": "aniket",
   "language": "python",
   "name": "python3"
  },
  "language_info": {
   "codemirror_mode": {
    "name": "ipython",
    "version": 3
   },
   "file_extension": ".py",
   "mimetype": "text/x-python",
   "name": "python",
   "nbconvert_exporter": "python",
   "pygments_lexer": "ipython3",
   "version": "3.8.13"
  }
 },
 "nbformat": 4,
 "nbformat_minor": 2
}
